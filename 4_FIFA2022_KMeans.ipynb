{
 "cells": [
  {
   "cell_type": "markdown",
   "id": "e4bcfc92",
   "metadata": {},
   "source": [
    "Este notebook incluí o código R usado para o estudo do agrupamento das observações do nosso dataset, recorrendo ao método hierárquico.\n",
    "Lista de dados inicial: 3_FIFA2022_PC.csv;\n",
    "Métricas dos agrupamentos obtidos : .\n",
    "Lista de dados com os agrupamentos estudados : 4_FIFA2022_HC.csv."
   ]
  },
  {
   "cell_type": "code",
   "execution_count": 2,
   "id": "82eee3c4",
   "metadata": {},
   "outputs": [
    {
     "name": "stderr",
     "output_type": "stream",
     "text": [
      "Warning message:\n",
      "\"package 'dplyr' was built under R version 3.6.3\""
     ]
    },
    {
     "ename": "ERROR",
     "evalue": "Error: package or namespace load failed for 'dplyr' in loadNamespace(i, c(lib.loc, .libPaths()), versionCheck = vI[[i]]):\n namespace 'rlang' 0.3.4 is being loaded, but >= 0.4.10 is required\n",
     "output_type": "error",
     "traceback": [
      "Error: package or namespace load failed for 'dplyr' in loadNamespace(i, c(lib.loc, .libPaths()), versionCheck = vI[[i]]):\n namespace 'rlang' 0.3.4 is being loaded, but >= 0.4.10 is required\nTraceback:\n",
      "1. library(dplyr)",
      "2. tryCatch({\n .     attr(package, \"LibPath\") <- which.lib.loc\n .     ns <- loadNamespace(package, lib.loc)\n .     env <- attachNamespace(ns, pos = pos, deps, exclude, include.only)\n . }, error = function(e) {\n .     P <- if (!is.null(cc <- conditionCall(e))) \n .         paste(\" in\", deparse(cc)[1L])\n .     else \"\"\n .     msg <- gettextf(\"package or namespace load failed for %s%s:\\n %s\", \n .         sQuote(package), P, conditionMessage(e))\n .     if (logical.return) \n .         message(paste(\"Error:\", msg), domain = NA)\n .     else stop(msg, call. = FALSE, domain = NA)\n . })",
      "3. tryCatchList(expr, classes, parentenv, handlers)",
      "4. tryCatchOne(expr, names, parentenv, handlers[[1L]])",
      "5. value[[3L]](cond)",
      "6. stop(msg, call. = FALSE, domain = NA)"
     ]
    }
   ],
   "source": [
    "library(dplyr)\n",
    "library(tidyr)\n",
    "library(cluster)\n",
    "library(ggplot2)\n",
    "library(cowplot)\n",
    "library(gridExtra)"
   ]
  },
  {
   "cell_type": "code",
   "execution_count": null,
   "id": "bb0a5a67",
   "metadata": {},
   "outputs": [],
   "source": [
    "# Abrir o dataset\n",
    "dataset <- read.csv('Dataset\\\\4_FIFA2022_HC.csv')"
   ]
  },
  {
   "cell_type": "markdown",
   "id": "9df78d1e",
   "metadata": {},
   "source": [
    "# 1. Caraterização das Componentes Principais"
   ]
  }
 ],
 "metadata": {
  "kernelspec": {
   "display_name": "R",
   "language": "R",
   "name": "ir"
  },
  "language_info": {
   "codemirror_mode": "r",
   "file_extension": ".r",
   "mimetype": "text/x-r-source",
   "name": "R",
   "pygments_lexer": "r",
   "version": "3.6.1"
  }
 },
 "nbformat": 4,
 "nbformat_minor": 5
}
